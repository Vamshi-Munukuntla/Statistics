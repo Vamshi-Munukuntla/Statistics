{
 "cells": [
  {
   "cell_type": "code",
   "execution_count": 1,
   "id": "a89d724c-97f4-4f33-99b5-78da14416e6f",
   "metadata": {},
   "outputs": [],
   "source": [
    "import numpy as np"
   ]
  },
  {
   "cell_type": "code",
   "execution_count": 2,
   "id": "60ab701a-4695-4268-b0e1-f677bd1f9daa",
   "metadata": {},
   "outputs": [
    {
     "data": {
      "text/plain": [
       "array([0.82718238, 0.80942358, 0.61624734, 0.29486822, 0.40507642])"
      ]
     },
     "execution_count": 2,
     "metadata": {},
     "output_type": "execute_result"
    }
   ],
   "source": [
    "np.random.rand(5)"
   ]
  },
  {
   "cell_type": "code",
   "execution_count": 3,
   "id": "dccf970f-f3e7-4fac-a675-1403a76288f0",
   "metadata": {},
   "outputs": [
    {
     "data": {
      "text/plain": [
       "0.7178340874802498"
      ]
     },
     "execution_count": 3,
     "metadata": {},
     "output_type": "execute_result"
    }
   ],
   "source": [
    "np.random.seed(555)\n",
    "np.random.rand()"
   ]
  },
  {
   "cell_type": "code",
   "execution_count": 8,
   "id": "37abbb64-3e04-45a7-bec2-0b215edc3487",
   "metadata": {},
   "outputs": [
    {
     "data": {
      "text/plain": [
       "array([0.71783409, 0.04785513, 0.94447198, 0.68638004, 0.58120733])"
      ]
     },
     "execution_count": 8,
     "metadata": {},
     "output_type": "execute_result"
    }
   ],
   "source": [
    "np.random.seed(555)\n",
    "np.random.rand(5)"
   ]
  },
  {
   "cell_type": "code",
   "execution_count": 17,
   "id": "c1ba2c97-3263-4e6a-92be-f552145943d0",
   "metadata": {},
   "outputs": [
    {
     "name": "stdout",
     "output_type": "stream",
     "text": [
      "[ True False  True  True  True]\n"
     ]
    },
    {
     "data": {
      "text/plain": [
       "2"
      ]
     },
     "execution_count": 17,
     "metadata": {},
     "output_type": "execute_result"
    }
   ],
   "source": [
    "np.random.seed(555)\n",
    "print(np.random.rand(5)>0.5)\n",
    "sum(np.random.rand(5) > 0.5)"
   ]
  },
  {
   "cell_type": "code",
   "execution_count": 15,
   "id": "3d8ad50d-fcae-48ec-9a34-fb6549a81876",
   "metadata": {},
   "outputs": [
    {
     "data": {
      "text/plain": [
       "array([[0.14267862, 0.94591918, 0.33999059, 0.62043546, 0.45295964],\n",
       "       [0.23976742, 0.03450459, 0.14859311, 0.81086617, 0.65310538]])"
      ]
     },
     "execution_count": 15,
     "metadata": {},
     "output_type": "execute_result"
    }
   ],
   "source": [
    "np.random.rand(2,5)"
   ]
  },
  {
   "cell_type": "code",
   "execution_count": 40,
   "id": "c4461e7f-d21e-4286-8cdc-3f24caedab49",
   "metadata": {},
   "outputs": [
    {
     "data": {
      "text/plain": [
       "6"
      ]
     },
     "execution_count": 40,
     "metadata": {},
     "output_type": "execute_result"
    }
   ],
   "source": [
    "sum(np.random.randint(0,2,10))"
   ]
  },
  {
   "cell_type": "code",
   "execution_count": 44,
   "id": "3a210299-284b-4818-8ff3-6f56b3c1106e",
   "metadata": {},
   "outputs": [
    {
     "data": {
      "text/plain": [
       "array([4, 5, 4, 5, 2, 4, 2, 3, 5, 1])"
      ]
     },
     "execution_count": 44,
     "metadata": {},
     "output_type": "execute_result"
    }
   ],
   "source": [
    "np.random.randint(1,7,10)"
   ]
  },
  {
   "cell_type": "code",
   "execution_count": null,
   "id": "f163ba47-5523-4ca6-88e2-4c05d14df47f",
   "metadata": {},
   "outputs": [],
   "source": []
  },
  {
   "cell_type": "code",
   "execution_count": null,
   "id": "164b9fcf-3d50-4de3-9388-29828112d72b",
   "metadata": {},
   "outputs": [],
   "source": []
  },
  {
   "cell_type": "code",
   "execution_count": 18,
   "id": "34b18ee3-dfd7-4add-bddc-49b4c9c15688",
   "metadata": {},
   "outputs": [
    {
     "data": {
      "image/png": "[encoded data removed]",
      "text/plain": [
       "<Figure size 640x480 with 1 Axes>"
      ]
     },
     "metadata": {},
     "output_type": "display_data"
    }
   ],
   "source": [
    "import matplotlib.pyplot as plt\n",
    "import seaborn as sns\n",
    "np.random.seed(555)\n",
    "a = np.random.randint(1,7,6000)\n",
    "sns.countplot(x=a)\n",
    "plt.show()"
   ]
  },
  {
   "cell_type": "code",
   "execution_count": 21,
   "id": "f02b75fc-53f4-408b-b98c-1e11b5eb6d6c",
   "metadata": {},
   "outputs": [
    {
     "data": {
      "text/plain": [
       "array([42, 43, 47, 46, 45, 43, 49, 40, 44, 42])"
      ]
     },
     "execution_count": 21,
     "metadata": {},
     "output_type": "execute_result"
    }
   ],
   "source": [
    "np.random.randint(40,50,10)"
   ]
  },
  {
   "cell_type": "code",
   "execution_count": 22,
   "id": "d13e0da4-2a35-4bb6-94ac-846f72d39670",
   "metadata": {},
   "outputs": [
    {
     "data": {
      "text/plain": [
       "5"
      ]
     },
     "execution_count": 22,
     "metadata": {},
     "output_type": "execute_result"
    }
   ],
   "source": [
    "sum(np.random.randint(0,2,10))"
   ]
  },
  {
   "cell_type": "code",
   "execution_count": 28,
   "id": "9f0ea458-40ce-43b3-bc1c-08ba36473607",
   "metadata": {},
   "outputs": [
    {
     "data": {
      "text/plain": [
       "array([1, 0, 1, 1, 0, 0, 1, 0, 1, 0])"
      ]
     },
     "execution_count": 28,
     "metadata": {},
     "output_type": "execute_result"
    }
   ],
   "source": [
    "np.random.randint(0,2,10)"
   ]
  },
  {
   "cell_type": "code",
   "execution_count": 67,
   "id": "d36d791f-b8e7-4103-b0a7-dd2410be5897",
   "metadata": {},
   "outputs": [
    {
     "name": "stdout",
     "output_type": "stream",
     "text": [
      "[9, 5, 6, 4, 8, 4, 3, 3, 6, 5, 4, 6, 8, 3, 5, 6, 3, 4, 7, 4, 4, 5, 3, 6, 2, 3, 4, 5, 4, 6, 7, 5, 3, 5, 6, 5, 6, 8, 5, 3, 5, 6, 3, 5, 7, 6, 6, 4, 4, 3, 3, 4, 5, 6, 6, 5, 8, 5, 5, 5, 5, 6, 7, 3, 6, 5, 3, 8, 4, 4, 6, 7, 5, 2, 5, 6, 6, 3, 8, 2, 5, 5, 5, 4, 6, 5, 5, 6, 2, 6, 4, 3, 7, 6, 10, 3, 5, 4, 6, 3, 7, 7, 8, 3, 6, 7, 5, 3, 6, 3, 2, 5, 3, 5, 4, 5, 3, 6, 2, 6, 3, 6, 1, 5, 5, 9, 6, 6, 7, 4, 5, 8, 6, 4, 3, 0, 4, 4, 5, 3, 6, 4, 6, 6, 5, 6, 3, 5, 6, 5, 5, 6, 3, 5, 5, 5, 3, 6, 4, 3, 9, 3, 5, 6, 5, 2, 5, 5, 7, 5, 7, 6, 8, 4, 4, 4, 7, 4, 7, 6, 4, 5, 4, 4, 5, 6, 6, 1, 6, 7, 4, 6, 6, 4, 7, 3, 3, 6, 8, 6, 3, 3, 4, 4, 3, 4, 4, 4, 2, 4, 7, 6, 7, 6, 9, 5, 6, 7, 3, 6, 6, 7, 7, 5, 4, 5, 7, 5, 2, 4, 9, 5, 2, 4, 6, 7, 4, 5, 6, 3, 5, 4, 5, 4, 2, 2, 7, 3, 6, 4, 4, 7, 6, 7, 3, 4, 6, 7, 4, 4, 5, 6, 5, 8, 7, 3, 7, 5, 3, 6, 6, 6, 4, 5, 3, 4, 3, 2, 5, 7, 8, 8, 5, 2, 5, 5, 6, 4, 6, 5, 6, 5, 2, 4, 6, 7, 3, 5, 4, 4, 5, 5, 1, 3, 4, 6, 6, 4, 4, 5, 4, 4, 6, 4, 7, 4, 3, 5, 4, 3, 6, 8, 2, 3, 4, 4, 7, 4, 8, 3, 4, 8, 8, 8, 6, 5, 4, 3, 5, 3, 3, 4, 5, 6, 3, 6, 4, 5, 5, 8, 7, 5, 6, 3, 6, 5, 7, 4, 4, 4, 5, 7, 3, 2, 7, 3, 5, 6, 3, 3, 5, 4, 4, 5, 7, 3, 5, 3, 5, 3, 5, 3, 4, 5, 6, 4, 2, 5, 3, 6, 4, 5, 7, 6, 4, 5, 7, 5, 4, 6, 3, 5, 3, 8, 9, 6, 6, 7, 3, 4, 4, 4, 9, 4, 5, 5, 8, 4, 6, 6, 9, 5, 7, 8, 4, 4, 6, 4, 5, 7, 6, 7, 5, 6, 6, 8, 6, 8, 6, 4, 5, 3, 4, 7, 9, 4, 1, 4, 4, 6, 5, 5, 7, 6, 5, 7, 3, 5, 4, 6, 5, 2, 6, 2, 3, 6, 3, 6, 6, 5, 5, 6, 4, 8, 3, 6, 5, 4, 4, 4, 5, 8, 3, 4, 5, 5, 4, 5, 4, 5, 5, 5, 2, 3, 7, 4, 6, 7, 4, 2, 4, 3, 7, 4, 5, 6, 4, 4, 5, 7, 3, 1, 5, 5, 6, 7, 7, 6, 6, 5, 3, 5, 6, 5, 4, 2, 6, 2, 5, 4, 4, 3, 3, 6, 3, 5, 5, 5, 5, 4, 6, 8, 5, 7, 5, 5, 4, 3, 4, 8, 4, 6, 4, 6, 5, 4, 1, 2, 1, 7, 5, 6, 5, 8, 8, 5, 6, 5, 5, 4, 5, 6, 9, 5, 5, 2, 4, 3, 6, 6, 5, 6, 6, 7, 7, 6, 8, 6, 4, 5, 5, 3, 3, 6, 4, 6, 6, 3, 5, 4, 5, 8, 3, 6, 5, 6, 8, 5, 7, 3, 7, 5, 3, 4, 4, 4, 6, 3, 7, 5, 7, 5, 4, 5, 5, 6, 7, 5, 4, 3, 7, 8, 4, 7, 6, 3, 4, 4, 5, 5, 8, 2, 6, 3, 4, 7, 5, 5, 3, 4, 5, 4, 6, 7, 2, 6, 5, 5, 7, 5, 3, 4, 6, 7, 7, 4, 4, 5, 2, 6, 6, 5, 3, 5, 3, 5, 4, 4, 5, 5, 6, 7, 5, 5, 3, 5, 7, 6, 6, 7, 6, 5, 6, 5, 4, 3, 5, 6, 3, 5, 4, 3, 6, 7, 3, 3, 5, 3, 5, 5, 8, 4, 7, 3, 3, 2, 6, 5, 2, 5, 7, 6, 8, 3, 4, 5, 4, 5, 5, 4, 5, 3, 3, 4, 7, 4, 6, 5, 5, 5, 4, 4, 3, 6, 2, 6, 4, 4, 6, 4, 5, 5, 6, 5, 4, 4, 5, 4, 3, 5, 4, 6, 7, 3, 4, 4, 4, 3, 5, 5, 3, 3, 3, 7, 2, 7, 5, 7, 7, 8, 5, 6, 6, 6, 7, 7, 5, 5, 5, 3, 6, 3, 8, 8, 4, 6, 7, 6, 7, 6, 5, 3, 5, 5, 6, 5, 5, 4, 4, 4, 4, 8, 5, 7, 6, 7, 3, 5, 4, 4, 5, 8, 5, 5, 4, 5, 4, 5, 7, 7, 7, 5, 5, 5, 4, 5, 6, 5, 4, 4, 8, 3, 5, 4, 7, 9, 3, 6, 3, 5, 6, 8, 7, 3, 7, 6, 3, 5, 6, 5, 2, 5, 2, 6, 4, 7, 6, 4, 6, 2, 6, 7, 6, 4, 2, 3, 5, 4, 5, 2, 2, 6, 5, 5, 6, 6, 6, 6, 7, 5, 8, 7, 5, 5, 3, 5, 7, 5, 5, 5, 2, 6, 4, 6, 9, 6, 7, 9, 6, 7, 6, 4, 5, 5, 5, 5, 7, 4, 5, 7, 5, 5, 4, 5, 4, 3, 3, 6, 4, 6, 4, 3, 6, 3, 4, 4, 4, 5, 4, 5, 7, 5, 3, 5, 6, 6, 5, 3, 6, 6, 3, 8, 6, 5, 7, 3, 5, 4, 4, 6, 3, 7, 4, 7, 6, 6, 6, 5, 6, 4, 7, 6, 4, 6, 6, 6, 6, 4, 5, 7, 3, 4, 7, 4, 3, 5, 6, 5, 4, 7, 8, 4, 6, 3, 8, 5, 4, 5, 4, 7]\n",
      "0 1\n",
      "1 7\n",
      "2 40\n",
      "3 137\n",
      "4 197\n",
      "5 248\n",
      "6 197\n",
      "7 111\n",
      "8 48\n",
      "9 13\n",
      "[1, 7, 40, 137, 197, 248, 197, 111, 48, 13]\n"
     ]
    }
   ],
   "source": [
    "a = []\n",
    "b = []\n",
    "for i in range(0,1000):\n",
    "    x = sum(np.random.randint(0,2,10))\n",
    "    a.append(x)\n",
    "print(a)\n",
    "for i in range(10):\n",
    "    print(i, a.count(i))\n",
    "    b.append(a.count(i))\n",
    "print(b)"
   ]
  },
  {
   "cell_type": "code",
   "execution_count": 78,
   "id": "598a38a0-2656-4264-95d0-39ced140618e",
   "metadata": {},
   "outputs": [
    {
     "data": {
      "image/png": "[encoded data removed]",
      "text/plain": [
       "<Figure size 640x480 with 1 Axes>"
      ]
     },
     "metadata": {},
     "output_type": "display_data"
    }
   ],
   "source": [
    "n = list(range(0,10))\n",
    "plt.bar(n,b)\n",
    "plt.show()"
   ]
  },
  {
   "cell_type": "markdown",
   "id": "689108cf-0c80-4fbc-b3fa-241964613aac",
   "metadata": {},
   "source": [
    "# Probability Question"
   ]
  },
  {
   "cell_type": "markdown",
   "id": "4794fb1b-9daa-42f1-ae31-30efd5ee9575",
   "metadata": {},
   "source": [
    "**If two dice are rolled, what is the probability of getting the sum of numbers greater than 7?**"
   ]
  },
  {
   "cell_type": "code",
   "execution_count": 80,
   "id": "7423e2a4-bbe8-4984-9919-cf6e6b84bddb",
   "metadata": {},
   "outputs": [],
   "source": [
    "import numpy as np\n",
    "die_1 = np.random.randint(1,7,10)\n",
    "die_2 = np.random.randint(1,7,10)"
   ]
  },
  {
   "cell_type": "code",
   "execution_count": 81,
   "id": "dacccb44-dbaf-452a-af8c-20f1b45f42d4",
   "metadata": {},
   "outputs": [
    {
     "data": {
      "text/plain": [
       "array([3, 4, 2, 3, 2, 6, 3, 4, 3, 1])"
      ]
     },
     "execution_count": 81,
     "metadata": {},
     "output_type": "execute_result"
    }
   ],
   "source": [
    "die_1"
   ]
  },
  {
   "cell_type": "code",
   "execution_count": 82,
   "id": "a78b773a-d9db-43f6-9133-6226582b8c31",
   "metadata": {},
   "outputs": [
    {
     "data": {
      "text/plain": [
       "array([2, 3, 3, 5, 1, 2, 4, 1, 1, 6])"
      ]
     },
     "execution_count": 82,
     "metadata": {},
     "output_type": "execute_result"
    }
   ],
   "source": [
    "die_2"
   ]
  },
  {
   "cell_type": "code",
   "execution_count": 84,
   "id": "65dc837b-2469-4e87-9bdd-683dbea6b8ab",
   "metadata": {},
   "outputs": [],
   "source": [
    "die_sum = die_1  + die_2"
   ]
  },
  {
   "cell_type": "code",
   "execution_count": 91,
   "id": "4999d6cf-9c83-4801-9eba-5c15410f6d4f",
   "metadata": {},
   "outputs": [
    {
     "name": "stdout",
     "output_type": "stream",
     "text": [
      "40\n",
      "0.4\n"
     ]
    }
   ],
   "source": [
    "import numpy as np\n",
    "die_1 = np.random.randint(1,7,100)\n",
    "die_2 = np.random.randint(1,7,100)\n",
    "die_sum = die_1 + die_2\n",
    "ans = sum(die_sum > 7)\n",
    "print(ans)\n",
    "print(ans/100)"
   ]
  },
  {
   "cell_type": "code",
   "execution_count": 92,
   "id": "e151f584-aee6-47ea-bbc4-da1c9a76d2d4",
   "metadata": {},
   "outputs": [
    {
     "data": {
      "text/plain": [
       "0.4166666666666667"
      ]
     },
     "execution_count": 92,
     "metadata": {},
     "output_type": "execute_result"
    }
   ],
   "source": [
    "15/36"
   ]
  },
  {
   "cell_type": "code",
   "execution_count": null,
   "id": "c87207b7-3205-4d23-b809-298dc08fdce9",
   "metadata": {},
   "outputs": [],
   "source": []
  }
 ],
 "metadata": {
  "kernelspec": {
   "display_name": "Python 3 (ipykernel)",
   "language": "python",
   "name": "python3"
  },
  "language_info": {
   "codemirror_mode": {
    "name": "ipython",
    "version": 3
   },
   "file_extension": ".py",
   "mimetype": "text/x-python",
   "name": "python",
   "nbconvert_exporter": "python",
   "pygments_lexer": "ipython3",
   "version": "3.9.12"
  }
 },
 "nbformat": 4,
 "nbformat_minor": 5
}
