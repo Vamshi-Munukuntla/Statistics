{
 "cells": [
  {
   "cell_type": "code",
   "execution_count": 3,
   "id": "df061dd3",
   "metadata": {},
   "outputs": [],
   "source": [
    "import numpy as np\n",
    "import pandas as pd\n",
    "import matplotlib.pyplot as plt\n",
    "import seaborn as sns\n",
    "from scipy.stats import norm"
   ]
  },
  {
   "cell_type": "markdown",
   "id": "9efca5eb",
   "metadata": {},
   "source": [
    "**A machine is producing perfume bottles with the long term average of 150cc and the standard deviation of 2cc. Four bottles were picked and the average volume was found to be 153.8cc. Has the average volume changed from 150cc? Test with 95% confidence level.**"
   ]
  },
  {
   "cell_type": "markdown",
   "id": "76dc7cd8",
   "metadata": {},
   "source": [
    "**Alternate Hypothesis**: Mean volume != 150cc (not equal to)\n",
    "\n",
    "**Null Hypothesis**: Mean volume = 150cc\n",
    "\n",
    "**Alpha** = 1 - 0.95 = 0.05\n",
    "\n",
    "**Z calculated** = (Observed mean - Population mean) / standard error \n",
    "\n",
    "             = (x - mu) / (sigma/sqrt(n))"
   ]
  },
  {
   "cell_type": "code",
   "execution_count": 2,
   "id": "bd0802cc",
   "metadata": {},
   "outputs": [
    {
     "data": {
      "text/plain": [
       "3.8000000000000114"
      ]
     },
     "execution_count": 2,
     "metadata": {},
     "output_type": "execute_result"
    }
   ],
   "source": [
    "Z_cal = (153.8 - 150) / (2/np.sqrt(4))\n",
    "Z_cal"
   ]
  },
  {
   "cell_type": "code",
   "execution_count": 5,
   "id": "371a2a93",
   "metadata": {},
   "outputs": [],
   "source": [
    "# norm.pdf(x, loc=0, scale=1) - Probability density function.\n",
    "\n",
    "# norm.cdf (x, loc=0, scale=1) - Cumulative distribution function. (area to the left of x)\n",
    "\n",
    "# norm.sf(x, loc=0, scale=1) - Survival function (also defined as 1-cdf)\n",
    "\n",
    "# norm.ppf(q, loc=0, scale=1) - Percent point function (inverse of cdf - percentiles)\n",
    "\n",
    "# norm.isf(q, loc=0, scale=1) - Inverse survival function (inverse of sf)."
   ]
  },
  {
   "cell_type": "code",
   "execution_count": 6,
   "id": "330cac2e",
   "metadata": {},
   "outputs": [
    {
     "data": {
      "text/plain": [
       "0.3989422804014327"
      ]
     },
     "execution_count": 6,
     "metadata": {},
     "output_type": "execute_result"
    }
   ],
   "source": [
    "norm.pdf(0)"
   ]
  },
  {
   "cell_type": "code",
   "execution_count": 7,
   "id": "cf153d62",
   "metadata": {},
   "outputs": [
    {
     "data": {
      "text/plain": [
       "0.5"
      ]
     },
     "execution_count": 7,
     "metadata": {},
     "output_type": "execute_result"
    }
   ],
   "source": [
    "norm.cdf(0)"
   ]
  },
  {
   "cell_type": "code",
   "execution_count": 8,
   "id": "10b4d65d",
   "metadata": {},
   "outputs": [
    {
     "data": {
      "text/plain": [
       "0.024997895148220435"
      ]
     },
     "execution_count": 8,
     "metadata": {},
     "output_type": "execute_result"
    }
   ],
   "source": [
    "norm.cdf(-1.96)"
   ]
  },
  {
   "cell_type": "code",
   "execution_count": 11,
   "id": "93d0a926",
   "metadata": {},
   "outputs": [
    {
     "data": {
      "text/plain": [
       "-1.9599639845400545"
      ]
     },
     "execution_count": 11,
     "metadata": {},
     "output_type": "execute_result"
    }
   ],
   "source": [
    "norm.ppf(0.025)"
   ]
  },
  {
   "cell_type": "code",
   "execution_count": 12,
   "id": "374cdcc4",
   "metadata": {},
   "outputs": [
    {
     "data": {
      "text/plain": [
       "0.024997895148220435"
      ]
     },
     "execution_count": 12,
     "metadata": {},
     "output_type": "execute_result"
    }
   ],
   "source": [
    "norm.sf(1.96)"
   ]
  },
  {
   "cell_type": "code",
   "execution_count": 14,
   "id": "e5688587",
   "metadata": {},
   "outputs": [
    {
     "data": {
      "text/plain": [
       "1.9599639845400545"
      ]
     },
     "execution_count": 14,
     "metadata": {},
     "output_type": "execute_result"
    }
   ],
   "source": [
    "norm.isf(0.025)"
   ]
  },
  {
   "cell_type": "code",
   "execution_count": 15,
   "id": "2c003ec7",
   "metadata": {},
   "outputs": [],
   "source": [
    "# p-value\n",
    "\n",
    "p_value = 2*norm.sf(Z_cal)"
   ]
  },
  {
   "cell_type": "code",
   "execution_count": 18,
   "id": "c4051388",
   "metadata": {},
   "outputs": [
    {
     "data": {
      "text/plain": [
       "0.0001446960878502333"
      ]
     },
     "execution_count": 18,
     "metadata": {},
     "output_type": "execute_result"
    }
   ],
   "source": [
    "p_value"
   ]
  },
  {
   "cell_type": "code",
   "execution_count": null,
   "id": "73c4aa8a",
   "metadata": {},
   "outputs": [],
   "source": []
  }
 ],
 "metadata": {
  "kernelspec": {
   "display_name": "Python 3 (ipykernel)",
   "language": "python",
   "name": "python3"
  },
  "language_info": {
   "codemirror_mode": {
    "name": "ipython",
    "version": 3
   },
   "file_extension": ".py",
   "mimetype": "text/x-python",
   "name": "python",
   "nbconvert_exporter": "python",
   "pygments_lexer": "ipython3",
   "version": "3.10.7"
  }
 },
 "nbformat": 4,
 "nbformat_minor": 5
}
